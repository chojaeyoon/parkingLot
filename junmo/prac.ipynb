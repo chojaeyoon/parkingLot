{
 "cells": [
  {
   "cell_type": "code",
   "execution_count": 1,
   "metadata": {},
   "outputs": [],
   "source": [
    "import numpy as np\n",
    "import pandas as pd\n",
    "import matplotlib.pyplot as plt\n",
    "\n",
    "from scipy import stats\n",
    "from tqdm import tqdm"
   ]
  },
  {
   "cell_type": "code",
   "execution_count": 2,
   "metadata": {},
   "outputs": [],
   "source": [
    "rawtrain = pd.read_csv('train.csv')\n",
    "rawtest = pd.read_csv('test.csv')\n",
    "age_gender = pd.read_csv('age_gender_info.csv', index_col=0)\n",
    "sample_submission = pd.read_csv('sample_submission.csv')"
   ]
  },
  {
   "cell_type": "markdown",
   "metadata": {},
   "source": [
    "###   \n",
    "### 지역정보 join (운전가능연령: 20~70대)"
   ]
  },
  {
   "cell_type": "code",
   "execution_count": 3,
   "metadata": {},
   "outputs": [],
   "source": [
    "female = []\n",
    "male = []\n",
    "for col in age_gender.columns:\n",
    "    female.append(col) if '여자' in col else male.append(col)\n",
    "        \n",
    "female_ratio = pd.DataFrame(age_gender[female].iloc[:, 2:8].sum(axis=1), columns=['여자운전비율'])\n",
    "male_ratio = pd.DataFrame(age_gender[male].iloc[:, 2:8].sum(axis=1), columns=['남자운전비율'])\n",
    "\n",
    "rawtrain = pd.merge(rawtrain, female_ratio, on='지역')\n",
    "rawtrain = pd.merge(rawtrain, male_ratio, on='지역')\n",
    "rawtest = pd.merge(rawtest, female_ratio, on='지역')\n",
    "rawtest = pd.merge(rawtest, male_ratio, on='지역')"
   ]
  },
  {
   "cell_type": "code",
   "execution_count": 82,
   "metadata": {},
   "outputs": [
    {
     "data": {
      "text/html": [
       "<div>\n",
       "<style scoped>\n",
       "    .dataframe tbody tr th:only-of-type {\n",
       "        vertical-align: middle;\n",
       "    }\n",
       "\n",
       "    .dataframe tbody tr th {\n",
       "        vertical-align: top;\n",
       "    }\n",
       "\n",
       "    .dataframe thead th {\n",
       "        text-align: right;\n",
       "    }\n",
       "</style>\n",
       "<table border=\"1\" class=\"dataframe\">\n",
       "  <thead>\n",
       "    <tr style=\"text-align: right;\">\n",
       "      <th></th>\n",
       "      <th>단지코드</th>\n",
       "      <th>총세대수</th>\n",
       "      <th>임대건물구분</th>\n",
       "      <th>지역</th>\n",
       "      <th>공급유형</th>\n",
       "      <th>전용면적</th>\n",
       "      <th>전용면적별세대수</th>\n",
       "      <th>공가수</th>\n",
       "      <th>자격유형</th>\n",
       "      <th>임대보증금</th>\n",
       "      <th>임대료</th>\n",
       "      <th>도보 10분거리 내 지하철역 수(환승노선 수 반영)</th>\n",
       "      <th>도보 10분거리 내 버스정류장 수</th>\n",
       "      <th>단지내주차면수</th>\n",
       "      <th>등록차량수</th>\n",
       "      <th>여자운전비율</th>\n",
       "      <th>남자운전비율</th>\n",
       "    </tr>\n",
       "  </thead>\n",
       "  <tbody>\n",
       "    <tr>\n",
       "      <th>0</th>\n",
       "      <td>C2483</td>\n",
       "      <td>900</td>\n",
       "      <td>아파트</td>\n",
       "      <td>경상북도</td>\n",
       "      <td>국민임대</td>\n",
       "      <td>39.72</td>\n",
       "      <td>134</td>\n",
       "      <td>38.0</td>\n",
       "      <td>A</td>\n",
       "      <td>15667000</td>\n",
       "      <td>103680</td>\n",
       "      <td>0.0</td>\n",
       "      <td>3.0</td>\n",
       "      <td>1425.0</td>\n",
       "      <td>1015.0</td>\n",
       "      <td>0.414740</td>\n",
       "      <td>0.356251</td>\n",
       "    </tr>\n",
       "    <tr>\n",
       "      <th>1</th>\n",
       "      <td>C2483</td>\n",
       "      <td>900</td>\n",
       "      <td>아파트</td>\n",
       "      <td>경상북도</td>\n",
       "      <td>국민임대</td>\n",
       "      <td>39.72</td>\n",
       "      <td>15</td>\n",
       "      <td>38.0</td>\n",
       "      <td>A</td>\n",
       "      <td>15667000</td>\n",
       "      <td>103680</td>\n",
       "      <td>0.0</td>\n",
       "      <td>3.0</td>\n",
       "      <td>1425.0</td>\n",
       "      <td>1015.0</td>\n",
       "      <td>0.414740</td>\n",
       "      <td>0.356251</td>\n",
       "    </tr>\n",
       "    <tr>\n",
       "      <th>2</th>\n",
       "      <td>C2483</td>\n",
       "      <td>900</td>\n",
       "      <td>아파트</td>\n",
       "      <td>경상북도</td>\n",
       "      <td>국민임대</td>\n",
       "      <td>51.93</td>\n",
       "      <td>385</td>\n",
       "      <td>38.0</td>\n",
       "      <td>A</td>\n",
       "      <td>27304000</td>\n",
       "      <td>184330</td>\n",
       "      <td>0.0</td>\n",
       "      <td>3.0</td>\n",
       "      <td>1425.0</td>\n",
       "      <td>1015.0</td>\n",
       "      <td>0.414740</td>\n",
       "      <td>0.356251</td>\n",
       "    </tr>\n",
       "    <tr>\n",
       "      <th>3</th>\n",
       "      <td>C2483</td>\n",
       "      <td>900</td>\n",
       "      <td>아파트</td>\n",
       "      <td>경상북도</td>\n",
       "      <td>국민임대</td>\n",
       "      <td>51.93</td>\n",
       "      <td>15</td>\n",
       "      <td>38.0</td>\n",
       "      <td>A</td>\n",
       "      <td>27304000</td>\n",
       "      <td>184330</td>\n",
       "      <td>0.0</td>\n",
       "      <td>3.0</td>\n",
       "      <td>1425.0</td>\n",
       "      <td>1015.0</td>\n",
       "      <td>0.414740</td>\n",
       "      <td>0.356251</td>\n",
       "    </tr>\n",
       "    <tr>\n",
       "      <th>4</th>\n",
       "      <td>C2483</td>\n",
       "      <td>900</td>\n",
       "      <td>아파트</td>\n",
       "      <td>경상북도</td>\n",
       "      <td>국민임대</td>\n",
       "      <td>51.93</td>\n",
       "      <td>41</td>\n",
       "      <td>38.0</td>\n",
       "      <td>A</td>\n",
       "      <td>27304000</td>\n",
       "      <td>184330</td>\n",
       "      <td>0.0</td>\n",
       "      <td>3.0</td>\n",
       "      <td>1425.0</td>\n",
       "      <td>1015.0</td>\n",
       "      <td>0.414740</td>\n",
       "      <td>0.356251</td>\n",
       "    </tr>\n",
       "    <tr>\n",
       "      <th>...</th>\n",
       "      <td>...</td>\n",
       "      <td>...</td>\n",
       "      <td>...</td>\n",
       "      <td>...</td>\n",
       "      <td>...</td>\n",
       "      <td>...</td>\n",
       "      <td>...</td>\n",
       "      <td>...</td>\n",
       "      <td>...</td>\n",
       "      <td>...</td>\n",
       "      <td>...</td>\n",
       "      <td>...</td>\n",
       "      <td>...</td>\n",
       "      <td>...</td>\n",
       "      <td>...</td>\n",
       "      <td>...</td>\n",
       "      <td>...</td>\n",
       "    </tr>\n",
       "    <tr>\n",
       "      <th>2947</th>\n",
       "      <td>C2086</td>\n",
       "      <td>1080</td>\n",
       "      <td>아파트</td>\n",
       "      <td>세종특별자치시</td>\n",
       "      <td>공공임대(10년)</td>\n",
       "      <td>59.94</td>\n",
       "      <td>30</td>\n",
       "      <td>7.0</td>\n",
       "      <td>A</td>\n",
       "      <td>39000000</td>\n",
       "      <td>460000</td>\n",
       "      <td>0.0</td>\n",
       "      <td>2.0</td>\n",
       "      <td>1142.0</td>\n",
       "      <td>1524.0</td>\n",
       "      <td>0.418959</td>\n",
       "      <td>0.378229</td>\n",
       "    </tr>\n",
       "    <tr>\n",
       "      <th>2948</th>\n",
       "      <td>C2086</td>\n",
       "      <td>1080</td>\n",
       "      <td>아파트</td>\n",
       "      <td>세종특별자치시</td>\n",
       "      <td>공공임대(10년)</td>\n",
       "      <td>74.92</td>\n",
       "      <td>156</td>\n",
       "      <td>7.0</td>\n",
       "      <td>A</td>\n",
       "      <td>49000000</td>\n",
       "      <td>550000</td>\n",
       "      <td>0.0</td>\n",
       "      <td>2.0</td>\n",
       "      <td>1142.0</td>\n",
       "      <td>1524.0</td>\n",
       "      <td>0.418959</td>\n",
       "      <td>0.378229</td>\n",
       "    </tr>\n",
       "    <tr>\n",
       "      <th>2949</th>\n",
       "      <td>C2086</td>\n",
       "      <td>1080</td>\n",
       "      <td>아파트</td>\n",
       "      <td>세종특별자치시</td>\n",
       "      <td>공공임대(10년)</td>\n",
       "      <td>74.93</td>\n",
       "      <td>78</td>\n",
       "      <td>7.0</td>\n",
       "      <td>A</td>\n",
       "      <td>49000000</td>\n",
       "      <td>550000</td>\n",
       "      <td>0.0</td>\n",
       "      <td>2.0</td>\n",
       "      <td>1142.0</td>\n",
       "      <td>1524.0</td>\n",
       "      <td>0.418959</td>\n",
       "      <td>0.378229</td>\n",
       "    </tr>\n",
       "    <tr>\n",
       "      <th>2950</th>\n",
       "      <td>C2086</td>\n",
       "      <td>1080</td>\n",
       "      <td>아파트</td>\n",
       "      <td>세종특별자치시</td>\n",
       "      <td>공공임대(10년)</td>\n",
       "      <td>84.88</td>\n",
       "      <td>160</td>\n",
       "      <td>7.0</td>\n",
       "      <td>A</td>\n",
       "      <td>61000000</td>\n",
       "      <td>600000</td>\n",
       "      <td>0.0</td>\n",
       "      <td>2.0</td>\n",
       "      <td>1142.0</td>\n",
       "      <td>1524.0</td>\n",
       "      <td>0.418959</td>\n",
       "      <td>0.378229</td>\n",
       "    </tr>\n",
       "    <tr>\n",
       "      <th>2951</th>\n",
       "      <td>C2086</td>\n",
       "      <td>1080</td>\n",
       "      <td>아파트</td>\n",
       "      <td>세종특별자치시</td>\n",
       "      <td>공공임대(10년)</td>\n",
       "      <td>84.94</td>\n",
       "      <td>80</td>\n",
       "      <td>7.0</td>\n",
       "      <td>A</td>\n",
       "      <td>61000000</td>\n",
       "      <td>600000</td>\n",
       "      <td>0.0</td>\n",
       "      <td>2.0</td>\n",
       "      <td>1142.0</td>\n",
       "      <td>1524.0</td>\n",
       "      <td>0.418959</td>\n",
       "      <td>0.378229</td>\n",
       "    </tr>\n",
       "  </tbody>\n",
       "</table>\n",
       "<p>2952 rows × 17 columns</p>\n",
       "</div>"
      ],
      "text/plain": [
       "       단지코드  총세대수 임대건물구분       지역       공급유형   전용면적  전용면적별세대수   공가수 자격유형  \\\n",
       "0     C2483   900    아파트     경상북도       국민임대  39.72       134  38.0    A   \n",
       "1     C2483   900    아파트     경상북도       국민임대  39.72        15  38.0    A   \n",
       "2     C2483   900    아파트     경상북도       국민임대  51.93       385  38.0    A   \n",
       "3     C2483   900    아파트     경상북도       국민임대  51.93        15  38.0    A   \n",
       "4     C2483   900    아파트     경상북도       국민임대  51.93        41  38.0    A   \n",
       "...     ...   ...    ...      ...        ...    ...       ...   ...  ...   \n",
       "2947  C2086  1080    아파트  세종특별자치시  공공임대(10년)  59.94        30   7.0    A   \n",
       "2948  C2086  1080    아파트  세종특별자치시  공공임대(10년)  74.92       156   7.0    A   \n",
       "2949  C2086  1080    아파트  세종특별자치시  공공임대(10년)  74.93        78   7.0    A   \n",
       "2950  C2086  1080    아파트  세종특별자치시  공공임대(10년)  84.88       160   7.0    A   \n",
       "2951  C2086  1080    아파트  세종특별자치시  공공임대(10년)  84.94        80   7.0    A   \n",
       "\n",
       "         임대보증금     임대료  도보 10분거리 내 지하철역 수(환승노선 수 반영)  도보 10분거리 내 버스정류장 수  \\\n",
       "0     15667000  103680                           0.0                 3.0   \n",
       "1     15667000  103680                           0.0                 3.0   \n",
       "2     27304000  184330                           0.0                 3.0   \n",
       "3     27304000  184330                           0.0                 3.0   \n",
       "4     27304000  184330                           0.0                 3.0   \n",
       "...        ...     ...                           ...                 ...   \n",
       "2947  39000000  460000                           0.0                 2.0   \n",
       "2948  49000000  550000                           0.0                 2.0   \n",
       "2949  49000000  550000                           0.0                 2.0   \n",
       "2950  61000000  600000                           0.0                 2.0   \n",
       "2951  61000000  600000                           0.0                 2.0   \n",
       "\n",
       "      단지내주차면수   등록차량수    여자운전비율    남자운전비율  \n",
       "0      1425.0  1015.0  0.414740  0.356251  \n",
       "1      1425.0  1015.0  0.414740  0.356251  \n",
       "2      1425.0  1015.0  0.414740  0.356251  \n",
       "3      1425.0  1015.0  0.414740  0.356251  \n",
       "4      1425.0  1015.0  0.414740  0.356251  \n",
       "...       ...     ...       ...       ...  \n",
       "2947   1142.0  1524.0  0.418959  0.378229  \n",
       "2948   1142.0  1524.0  0.418959  0.378229  \n",
       "2949   1142.0  1524.0  0.418959  0.378229  \n",
       "2950   1142.0  1524.0  0.418959  0.378229  \n",
       "2951   1142.0  1524.0  0.418959  0.378229  \n",
       "\n",
       "[2952 rows x 17 columns]"
      ]
     },
     "execution_count": 82,
     "metadata": {},
     "output_type": "execute_result"
    }
   ],
   "source": [
    "rawtrain"
   ]
  },
  {
   "cell_type": "markdown",
   "metadata": {},
   "source": [
    "###  \n",
    "### 오류 단지코드 제외\n",
    "### 1. 전용면적별 세대수 합계와 총세대수 일치 x: 전용면적별 세대수 합계를 총 세대수로 설정하고 진행\n",
    "### 2. 동일한 단지에 단지코드가 2개로 부여된 경우: train(2085, 1397, 2431, 1649, 1036), test(2675) "
   ]
  },
  {
   "cell_type": "code",
   "execution_count": 4,
   "metadata": {},
   "outputs": [],
   "source": [
    "def exception():\n",
    "    # 1. 전용면적별 세대수 합계 join\n",
    "    _t1 = rawtrain.groupby('단지코드').sum()['전용면적별세대수']\n",
    "    _t2 = pd.merge(rawtrain, _t1, on='단지코드')\n",
    "    _t2['전용면적별세대수'] = _t2['전용면적별세대수_x']\n",
    "    _t2['총세대수'] = _t2['전용면적별세대수_y']\n",
    "    _final1 = _t2.drop(['전용면적별세대수_x', '전용면적별세대수_y'], axis='columns')\n",
    "    \n",
    "    # 2. 제외할 코드들 제외\n",
    "    train = _final1[~_final1['단지코드'].isin(['C2085', 'C1397', 'C2431', 'C1649', 'C1036', 'C1095', \n",
    "                                             'C2051', 'C1218', 'C1894', 'C2483', 'C1502', 'C1988'])]\n",
    "    test = rawtest[~rawtest['단지코드'].isin(['C2675', 'C2335', 'C1327'])]\n",
    "    \n",
    "    return train, test"
   ]
  },
  {
   "cell_type": "code",
   "execution_count": 5,
   "metadata": {},
   "outputs": [],
   "source": [
    "train, test = exception()"
   ]
  },
  {
   "cell_type": "markdown",
   "metadata": {},
   "source": [
    "###  \n",
    "### 결측치 처리"
   ]
  },
  {
   "cell_type": "code",
   "execution_count": 6,
   "metadata": {},
   "outputs": [],
   "source": [
    "def nanprocess_v1(usetrain):\n",
    "\n",
    "    \"\"\"\n",
    "        도보 10분거리내 지하철역 수: \"지역별로\" 결측치 제외 평균 0.5 미만이면 0, 이상이면 1 부여\n",
    "        cf. 대전과 충청남도에만 결측치 있음    \n",
    "        \n",
    "    \"\"\"\n",
    "    cities = list(set(usetrain['지역']))\n",
    "    aparts = list(set(usetrain['단지코드']))\n",
    "    _pre1 = usetrain.copy()\n",
    "    \n",
    "    _col = '도보 10분거리 내 지하철역 수(환승노선 수 반영)'\n",
    "    for city in tqdm(cities):\n",
    "        _aparts_in_city = usetrain[usetrain['지역'] == city]\n",
    "        _codes_in_city = list(set(_aparts_in_city['단지코드']))\n",
    "        \n",
    "        _mean = np.nanmean(_aparts_in_city[_col])\n",
    "        for code in _codes_in_city:\n",
    "            _idx = _pre1[_pre1['단지코드']==code].index\n",
    "            if usetrain[usetrain['단지코드'].isin(_codes_in_city)][_col].isnull().sum() > 0:\n",
    "                if _mean >= 0.5:\n",
    "                    _pre1.loc[_idx, _col] = 1\n",
    "                else:\n",
    "                    _pre1.loc[_idx, _col] = 0\n",
    "                    \n",
    "    \"\"\"\n",
    "        임대보증금 및 임대료: 결측치 제외하고, 단지별로, 전용면적과 선형회귀분석 진행하여 결측치 처리\n",
    "        cf. 임대보증금, 임대료에 '-' 값 있음: 결측치로 처리 \n",
    "        cf. C2152 아파트의 경우 임대보증금/임대료 데이터가 아예 결측 -> 강원도평균으로 처리\n",
    "        \n",
    "    \"\"\"        \n",
    "    # 임대가치 지표 신규 설정\n",
    "    _pre2 = _pre1.copy()\n",
    "    _col = ['임대보증금', '임대료']\n",
    "\n",
    "    for col in _col:\n",
    "        _pre2 = _pre2.drop(_pre2[_pre2[col] == '-'].index)\n",
    "        _pre2[col] = _pre2[col].astype(float)\n",
    "    _pre2['임대가치'] = _pre2['임대보증금'] * _pre2['임대료']\n",
    "    \n",
    "    \n",
    "#     # 이상치 제거, 선형회귀식 작성에 사용할 데이터 추출\n",
    "#     q1 = _pre1['임대가치'].quantile(0.25)\n",
    "#     q3 = _pre1['임대가치'].quantile(0.75)\n",
    "#     IQR = q3 - q1\n",
    "#     _lin = _pre1[(_pre1['임대가치'] < (q1 - 1.5 * IQR)) | (_pre1['임대가치'] > (q3 + 1.5 * IQR))]\n",
    "    \n",
    "#     # 선형회귀식 작성\n",
    "#     cities = list(set(_pre1['지역']))\n",
    "#     aparts = list(set(_pre1['단지코드']))\n",
    "    \n",
    "#     for apart in tqdm(aparts):\n",
    "#         _dat1 = _lin[_lin['단지코드'] == apart]\n",
    "#         linmodel = stats.linregress(list(_lin['전용면적'].astype(float)), list(_lin['임대가치'].astype(float)))\n",
    "#         _idx1 = _pre1[_pre1['단지코드'] == apart].isnull().index\n",
    "#         for idx in _idx1:\n",
    "#             _pre1.loc[idx, '임대가치'] = linmodel.intercept + linmodel.slope * _pre1.loc[idx, '전용면적']\n",
    "    \n",
    "#     final = _pre1[(_pre1['임대가치'] >= (q1 - 1.5 * IQR)) & (_pre1['임대가치'] <= (q3 + 1.5 * IQR))]\n",
    "    \n",
    "    return _pre1, _pre2\n",
    "    \n",
    "    "
   ]
  },
  {
   "cell_type": "code",
   "execution_count": 7,
   "metadata": {},
   "outputs": [
    {
     "name": "stderr",
     "output_type": "stream",
     "text": [
      "100%|██████████| 16/16 [00:00<00:00, 32.46it/s]\n",
      "100%|██████████| 15/15 [00:00<00:00, 97.90it/s]\n"
     ]
    }
   ],
   "source": [
    "_, prep_train = nanprocess_v1(train)\n",
    "_forC2152, prep_test = nanprocess_v1(test)\n",
    "\n",
    "# 강원도 임대가치 평균으로 C2152 결측치 처리\n",
    "_forC2152['임대가치'] = np.mean(prep_test[prep_test['지역']=='강원도']['임대가치'])\n",
    "prep_test = pd.concat([prep_test, _forC2152[_forC2152['단지코드'] == 'C2152']])\n",
    "prep = pd.concat([prep_train, prep_test])"
   ]
  },
  {
   "cell_type": "markdown",
   "metadata": {},
   "source": [
    "###  \n",
    "### string 데이터 처리 / 상가 데이터 처리"
   ]
  },
  {
   "cell_type": "code",
   "execution_count": 8,
   "metadata": {},
   "outputs": [],
   "source": [
    "# 지역\n",
    "local_map = {}\n",
    "for i, loc in enumerate(prep['지역'].unique()):\n",
    "    local_map[loc] = i\n",
    "    \n",
    "# 공급유형\n",
    "supply_map = {}\n",
    "for i, loc in enumerate(prep['공급유형'].unique()):\n",
    "    supply_map[loc] = i\n",
    "    \n",
    "# 자격유형\n",
    "qual_map = {}\n",
    "for i, loc in enumerate(prep['자격유형'].unique()):\n",
    "    qual_map[loc] = i"
   ]
  },
  {
   "cell_type": "code",
   "execution_count": 36,
   "metadata": {},
   "outputs": [
    {
     "name": "stderr",
     "output_type": "stream",
     "text": [
      "100%|██████████| 410/410 [00:01<00:00, 368.71it/s]\n",
      "100%|██████████| 147/147 [00:00<00:00, 401.31it/s]\n"
     ]
    }
   ],
   "source": [
    "def preprocess_v1(prep, type='train'):\n",
    "    aparts = list(set(prep['단지코드']))\n",
    "    merge_set = []\n",
    "    for code in tqdm(aparts):\n",
    "        final_vector = {}\n",
    "\n",
    "        usedat = prep[prep['단지코드'] == code]\n",
    "        onlyapart = usedat[usedat['임대건물구분'] == '아파트']\n",
    "        \n",
    "        if '상가' in set(usedat['임대건물구분']):\n",
    "            sanga = 1\n",
    "            sangadat = usedat[usedat['임대건물구분'] == '상가']\n",
    "            apartdat = usedat[usedat['임대건물구분'] == '아파트']\n",
    "            sanga_area = sum(sangadat['전용면적'] * sangadat['전용면적별세대수'])\n",
    "            apart_area = sum(apartdat['전용면적'] * apartdat['전용면적별세대수'])\n",
    "        else:\n",
    "            sanga = 0\n",
    "            sanga_area = 0.0\n",
    "            apart_area = sum(usedat['전용면적'] * usedat['전용면적별세대수'])\n",
    "        \n",
    "        final_vector['단지코드'] = [usedat['단지코드'].iloc[0]]\n",
    "        final_vector['총세대수'] = [usedat['총세대수'].iloc[0]]\n",
    "        final_vector['상가'] = [sanga]\n",
    "        final_vector['아파트면적'] = [apart_area]\n",
    "        final_vector['상가면적'] = [sanga_area]\n",
    "        final_vector['지역'] = [local_map[usedat['지역'].iloc[0]]]\n",
    "        final_vector['공급유형'] = [supply_map[max(set(list(onlyapart['공급유형'])), key = list(onlyapart['공급유형']).count)]]\n",
    "        final_vector['공가수'] = [usedat['공가수'].iloc[0]]\n",
    "        final_vector['자격유형'] = [qual_map[max(set(list(onlyapart['자격유형'])), key = list(onlyapart['자격유형']).count)]]\n",
    "        final_vector['임대가치'] = [usedat['임대가치'].iloc[0]]\n",
    "        final_vector['지하철'] = [usedat['도보 10분거리 내 지하철역 수(환승노선 수 반영)'].iloc[0]]\n",
    "        final_vector['버스'] = [usedat['도보 10분거리 내 버스정류장 수'].iloc[0]]\n",
    "        final_vector['주차면수'] = [usedat['단지내주차면수'].iloc[0]]\n",
    "        if type == 'train':\n",
    "            final_vector['등록차량수'] = [usedat['등록차량수'].iloc[0]]\n",
    "        \n",
    "        merge_set.append(pd.DataFrame(final_vector))\n",
    "    \n",
    "    return pd.concat(merge_set)\n",
    "\n",
    "finaltrain = preprocess_v1(prep_train).dropna()\n",
    "finaltest = preprocess_v1(prep_test, 'test')"
   ]
  },
  {
   "cell_type": "code",
   "execution_count": 37,
   "metadata": {},
   "outputs": [],
   "source": [
    "finaltrain = finaltrain[finaltrain['임대가치']<5e12]"
   ]
  },
  {
   "cell_type": "code",
   "execution_count": 35,
   "metadata": {},
   "outputs": [
    {
     "data": {
      "text/html": [
       "<div>\n",
       "<style scoped>\n",
       "    .dataframe tbody tr th:only-of-type {\n",
       "        vertical-align: middle;\n",
       "    }\n",
       "\n",
       "    .dataframe tbody tr th {\n",
       "        vertical-align: top;\n",
       "    }\n",
       "\n",
       "    .dataframe thead th {\n",
       "        text-align: right;\n",
       "    }\n",
       "</style>\n",
       "<table border=\"1\" class=\"dataframe\">\n",
       "  <thead>\n",
       "    <tr style=\"text-align: right;\">\n",
       "      <th></th>\n",
       "      <th>단지코드</th>\n",
       "      <th>총세대수</th>\n",
       "      <th>상가</th>\n",
       "      <th>아파트면적</th>\n",
       "      <th>상가면적</th>\n",
       "      <th>지역</th>\n",
       "      <th>공급유형</th>\n",
       "      <th>공가수</th>\n",
       "      <th>자격유형</th>\n",
       "      <th>임대가치</th>\n",
       "      <th>지하철</th>\n",
       "      <th>버스</th>\n",
       "      <th>주차면수</th>\n",
       "      <th>등록차량수</th>\n",
       "    </tr>\n",
       "  </thead>\n",
       "  <tbody>\n",
       "    <tr>\n",
       "      <th>0</th>\n",
       "      <td>C1386</td>\n",
       "      <td>1497</td>\n",
       "      <td>0</td>\n",
       "      <td>63973.48</td>\n",
       "      <td>0.00</td>\n",
       "      <td>12</td>\n",
       "      <td>0</td>\n",
       "      <td>15.0</td>\n",
       "      <td>0</td>\n",
       "      <td>8.301401e+11</td>\n",
       "      <td>0.0</td>\n",
       "      <td>5.0</td>\n",
       "      <td>1100.0</td>\n",
       "      <td>1145.0</td>\n",
       "    </tr>\n",
       "    <tr>\n",
       "      <th>0</th>\n",
       "      <td>C2490</td>\n",
       "      <td>302</td>\n",
       "      <td>0</td>\n",
       "      <td>16494.40</td>\n",
       "      <td>0.00</td>\n",
       "      <td>13</td>\n",
       "      <td>0</td>\n",
       "      <td>4.0</td>\n",
       "      <td>0</td>\n",
       "      <td>4.625282e+12</td>\n",
       "      <td>0.0</td>\n",
       "      <td>2.0</td>\n",
       "      <td>217.0</td>\n",
       "      <td>340.0</td>\n",
       "    </tr>\n",
       "    <tr>\n",
       "      <th>0</th>\n",
       "      <td>C1032</td>\n",
       "      <td>946</td>\n",
       "      <td>0</td>\n",
       "      <td>51895.52</td>\n",
       "      <td>0.00</td>\n",
       "      <td>2</td>\n",
       "      <td>0</td>\n",
       "      <td>6.0</td>\n",
       "      <td>0</td>\n",
       "      <td>1.998310e+12</td>\n",
       "      <td>1.0</td>\n",
       "      <td>2.0</td>\n",
       "      <td>986.0</td>\n",
       "      <td>316.0</td>\n",
       "    </tr>\n",
       "    <tr>\n",
       "      <th>0</th>\n",
       "      <td>C2212</td>\n",
       "      <td>697</td>\n",
       "      <td>1</td>\n",
       "      <td>20010.42</td>\n",
       "      <td>583.25</td>\n",
       "      <td>5</td>\n",
       "      <td>3</td>\n",
       "      <td>0.0</td>\n",
       "      <td>4</td>\n",
       "      <td>3.018355e+11</td>\n",
       "      <td>0.0</td>\n",
       "      <td>4.0</td>\n",
       "      <td>128.0</td>\n",
       "      <td>86.0</td>\n",
       "    </tr>\n",
       "    <tr>\n",
       "      <th>0</th>\n",
       "      <td>C2262</td>\n",
       "      <td>720</td>\n",
       "      <td>0</td>\n",
       "      <td>33358.55</td>\n",
       "      <td>0.00</td>\n",
       "      <td>10</td>\n",
       "      <td>0</td>\n",
       "      <td>30.0</td>\n",
       "      <td>0</td>\n",
       "      <td>2.362848e+12</td>\n",
       "      <td>0.0</td>\n",
       "      <td>4.0</td>\n",
       "      <td>581.0</td>\n",
       "      <td>540.0</td>\n",
       "    </tr>\n",
       "    <tr>\n",
       "      <th>...</th>\n",
       "      <td>...</td>\n",
       "      <td>...</td>\n",
       "      <td>...</td>\n",
       "      <td>...</td>\n",
       "      <td>...</td>\n",
       "      <td>...</td>\n",
       "      <td>...</td>\n",
       "      <td>...</td>\n",
       "      <td>...</td>\n",
       "      <td>...</td>\n",
       "      <td>...</td>\n",
       "      <td>...</td>\n",
       "      <td>...</td>\n",
       "      <td>...</td>\n",
       "    </tr>\n",
       "    <tr>\n",
       "      <th>0</th>\n",
       "      <td>C1693</td>\n",
       "      <td>853</td>\n",
       "      <td>0</td>\n",
       "      <td>47155.53</td>\n",
       "      <td>0.00</td>\n",
       "      <td>2</td>\n",
       "      <td>0</td>\n",
       "      <td>20.0</td>\n",
       "      <td>0</td>\n",
       "      <td>3.895913e+12</td>\n",
       "      <td>1.0</td>\n",
       "      <td>6.0</td>\n",
       "      <td>862.0</td>\n",
       "      <td>1087.0</td>\n",
       "    </tr>\n",
       "    <tr>\n",
       "      <th>0</th>\n",
       "      <td>C2208</td>\n",
       "      <td>882</td>\n",
       "      <td>0</td>\n",
       "      <td>38890.20</td>\n",
       "      <td>0.00</td>\n",
       "      <td>3</td>\n",
       "      <td>0</td>\n",
       "      <td>16.0</td>\n",
       "      <td>0</td>\n",
       "      <td>2.433786e+12</td>\n",
       "      <td>0.0</td>\n",
       "      <td>2.0</td>\n",
       "      <td>755.0</td>\n",
       "      <td>840.0</td>\n",
       "    </tr>\n",
       "    <tr>\n",
       "      <th>0</th>\n",
       "      <td>C1312</td>\n",
       "      <td>517</td>\n",
       "      <td>0</td>\n",
       "      <td>21996.87</td>\n",
       "      <td>0.00</td>\n",
       "      <td>7</td>\n",
       "      <td>0</td>\n",
       "      <td>12.0</td>\n",
       "      <td>0</td>\n",
       "      <td>2.133787e+12</td>\n",
       "      <td>0.0</td>\n",
       "      <td>3.0</td>\n",
       "      <td>527.0</td>\n",
       "      <td>359.0</td>\n",
       "    </tr>\n",
       "    <tr>\n",
       "      <th>0</th>\n",
       "      <td>C1360</td>\n",
       "      <td>443</td>\n",
       "      <td>0</td>\n",
       "      <td>18209.93</td>\n",
       "      <td>0.00</td>\n",
       "      <td>0</td>\n",
       "      <td>0</td>\n",
       "      <td>22.0</td>\n",
       "      <td>0</td>\n",
       "      <td>6.767251e+11</td>\n",
       "      <td>0.0</td>\n",
       "      <td>2.0</td>\n",
       "      <td>362.0</td>\n",
       "      <td>375.0</td>\n",
       "    </tr>\n",
       "    <tr>\n",
       "      <th>0</th>\n",
       "      <td>C1845</td>\n",
       "      <td>306</td>\n",
       "      <td>0</td>\n",
       "      <td>12856.14</td>\n",
       "      <td>0.00</td>\n",
       "      <td>5</td>\n",
       "      <td>0</td>\n",
       "      <td>0.0</td>\n",
       "      <td>0</td>\n",
       "      <td>2.235327e+12</td>\n",
       "      <td>0.0</td>\n",
       "      <td>3.0</td>\n",
       "      <td>248.0</td>\n",
       "      <td>277.0</td>\n",
       "    </tr>\n",
       "  </tbody>\n",
       "</table>\n",
       "<p>357 rows × 14 columns</p>\n",
       "</div>"
      ],
      "text/plain": [
       "     단지코드  총세대수  상가     아파트면적    상가면적  지역  공급유형   공가수  자격유형          임대가치  \\\n",
       "0   C1386  1497   0  63973.48    0.00  12     0  15.0     0  8.301401e+11   \n",
       "0   C2490   302   0  16494.40    0.00  13     0   4.0     0  4.625282e+12   \n",
       "0   C1032   946   0  51895.52    0.00   2     0   6.0     0  1.998310e+12   \n",
       "0   C2212   697   1  20010.42  583.25   5     3   0.0     4  3.018355e+11   \n",
       "0   C2262   720   0  33358.55    0.00  10     0  30.0     0  2.362848e+12   \n",
       "..    ...   ...  ..       ...     ...  ..   ...   ...   ...           ...   \n",
       "0   C1693   853   0  47155.53    0.00   2     0  20.0     0  3.895913e+12   \n",
       "0   C2208   882   0  38890.20    0.00   3     0  16.0     0  2.433786e+12   \n",
       "0   C1312   517   0  21996.87    0.00   7     0  12.0     0  2.133787e+12   \n",
       "0   C1360   443   0  18209.93    0.00   0     0  22.0     0  6.767251e+11   \n",
       "0   C1845   306   0  12856.14    0.00   5     0   0.0     0  2.235327e+12   \n",
       "\n",
       "    지하철   버스    주차면수   등록차량수  \n",
       "0   0.0  5.0  1100.0  1145.0  \n",
       "0   0.0  2.0   217.0   340.0  \n",
       "0   1.0  2.0   986.0   316.0  \n",
       "0   0.0  4.0   128.0    86.0  \n",
       "0   0.0  4.0   581.0   540.0  \n",
       "..  ...  ...     ...     ...  \n",
       "0   1.0  6.0   862.0  1087.0  \n",
       "0   0.0  2.0   755.0   840.0  \n",
       "0   0.0  3.0   527.0   359.0  \n",
       "0   0.0  2.0   362.0   375.0  \n",
       "0   0.0  3.0   248.0   277.0  \n",
       "\n",
       "[357 rows x 14 columns]"
      ]
     },
     "execution_count": 35,
     "metadata": {},
     "output_type": "execute_result"
    }
   ],
   "source": [
    "finaltrain[finaltrain['임대가치']<5e12]"
   ]
  },
  {
   "cell_type": "code",
   "execution_count": 25,
   "metadata": {},
   "outputs": [],
   "source": []
  },
  {
   "cell_type": "code",
   "execution_count": 24,
   "metadata": {},
   "outputs": [],
   "source": [
    "# for i in finaltrain.columns.difference(['단지코드']):\n",
    "#     print(i)\n",
    "#     plt.hist(finaltrain[i])\n",
    "#     plt.show()"
   ]
  },
  {
   "cell_type": "markdown",
   "metadata": {},
   "source": [
    "###  \n",
    "### Normalization"
   ]
  },
  {
   "cell_type": "code",
   "execution_count": 38,
   "metadata": {},
   "outputs": [],
   "source": [
    "means = {}\n",
    "stds = {}\n",
    "for col in finaltrain.columns.difference(['단지코드']):\n",
    "    means[col] = np.mean(finaltrain[col])\n",
    "    stds[col] = np.std(finaltrain[col])\n",
    "    finaltrain[col] = (finaltrain[col] - means[col]) / stds[col]\n",
    "    \n",
    "for col in finaltest.columns.difference(['단지코드']):\n",
    "    finaltest[col] = (finaltest[col] - means[col]) / stds[col]"
   ]
  },
  {
   "cell_type": "code",
   "execution_count": 39,
   "metadata": {},
   "outputs": [
    {
     "name": "stdout",
     "output_type": "stream",
     "text": [
      "공가수\n"
     ]
    },
    {
     "data": {
      "image/png": "[encoded data removed]",
      "text/plain": [
       "<Figure size 432x288 with 1 Axes>"
      ]
     },
     "metadata": {
      "needs_background": "light"
     },
     "output_type": "display_data"
    },
    {
     "name": "stdout",
     "output_type": "stream",
     "text": [
      "공급유형\n"
     ]
    },
    {
     "data": {
      "image/png": "[encoded data removed]",
      "text/plain": [
       "<Figure size 432x288 with 1 Axes>"
      ]
     },
     "metadata": {
      "needs_background": "light"
     },
     "output_type": "display_data"
    },
    {
     "name": "stdout",
     "output_type": "stream",
     "text": [
      "등록차량수\n"
     ]
    },
    {
     "data": {
      "image/png": "[encoded data removed]",
      "text/plain": [
       "<Figure size 432x288 with 1 Axes>"
      ]
     },
     "metadata": {
      "needs_background": "light"
     },
     "output_type": "display_data"
    },
    {
     "name": "stdout",
     "output_type": "stream",
     "text": [
      "버스\n"
     ]
    },
    {
     "data": {
      "image/png": "[encoded data removed]",
      "text/plain": [
       "<Figure size 432x288 with 1 Axes>"
      ]
     },
     "metadata": {
      "needs_background": "light"
     },
     "output_type": "display_data"
    },
    {
     "name": "stdout",
     "output_type": "stream",
     "text": [
      "상가\n"
     ]
    },
    {
     "data": {
      "image/png": "[encoded data removed]",
      "text/plain": [
       "<Figure size 432x288 with 1 Axes>"
      ]
     },
     "metadata": {
      "needs_background": "light"
     },
     "output_type": "display_data"
    },
    {
     "name": "stdout",
     "output_type": "stream",
     "text": [
      "상가면적\n"
     ]
    },
    {
     "data": {
      "image/png": "[encoded data removed]",
      "text/plain": [
       "<Figure size 432x288 with 1 Axes>"
      ]
     },
     "metadata": {
      "needs_background": "light"
     },
     "output_type": "display_data"
    },
    {
     "name": "stdout",
     "output_type": "stream",
     "text": [
      "아파트면적\n"
     ]
    },
    {
     "data": {
      "image/png": "[encoded data removed]",
      "text/plain": [
       "<Figure size 432x288 with 1 Axes>"
      ]
     },
     "metadata": {
      "needs_background": "light"
     },
     "output_type": "display_data"
    },
    {
     "name": "stdout",
     "output_type": "stream",
     "text": [
      "임대가치\n"
     ]
    },
    {
     "data": {
      "image/png": "[encoded data removed]",
      "text/plain": [
       "<Figure size 432x288 with 1 Axes>"
      ]
     },
     "metadata": {
      "needs_background": "light"
     },
     "output_type": "display_data"
    },
    {
     "name": "stdout",
     "output_type": "stream",
     "text": [
      "자격유형\n"
     ]
    },
    {
     "data": {
      "image/png": "[encoded data removed]",
      "text/plain": [
       "<Figure size 432x288 with 1 Axes>"
      ]
     },
     "metadata": {
      "needs_background": "light"
     },
     "output_type": "display_data"
    },
    {
     "name": "stdout",
     "output_type": "stream",
     "text": [
      "주차면수\n"
     ]
    },
    {
     "data": {
      "image/png": "[encoded data removed]",
      "text/plain": [
       "<Figure size 432x288 with 1 Axes>"
      ]
     },
     "metadata": {
      "needs_background": "light"
     },
     "output_type": "display_data"
    },
    {
     "name": "stdout",
     "output_type": "stream",
     "text": [
      "지역\n"
     ]
    },
    {
     "data": {
      "image/png": "[encoded data removed]",
      "text/plain": [
       "<Figure size 432x288 with 1 Axes>"
      ]
     },
     "metadata": {
      "needs_background": "light"
     },
     "output_type": "display_data"
    },
    {
     "name": "stdout",
     "output_type": "stream",
     "text": [
      "지하철\n"
     ]
    },
    {
     "data": {
      "image/png": "[encoded data removed]",
      "text/plain": [
       "<Figure size 432x288 with 1 Axes>"
      ]
     },
     "metadata": {
      "needs_background": "light"
     },
     "output_type": "display_data"
    },
    {
     "name": "stdout",
     "output_type": "stream",
     "text": [
      "총세대수\n"
     ]
    },
    {
     "data": {
      "image/png": "[encoded data removed]",
      "text/plain": [
       "<Figure size 432x288 with 1 Axes>"
      ]
     },
     "metadata": {
      "needs_background": "light"
     },
     "output_type": "display_data"
    }
   ],
   "source": [
    "for i in finaltrain.columns.difference(['단지코드']):\n",
    "    print(i)\n",
    "    plt.hist(finaltrain[i])\n",
    "    plt.show()"
   ]
  },
  {
   "cell_type": "markdown",
   "metadata": {},
   "source": [
    "###  \n",
    "### 학습 시작"
   ]
  },
  {
   "cell_type": "code",
   "execution_count": 40,
   "metadata": {},
   "outputs": [],
   "source": [
    "from sklearn.linear_model import LinearRegression\n",
    "from sklearn.ensemble import RandomForestRegressor\n",
    "from sklearn.svm import SVR\n",
    "import xgboost as xgb\n",
    "\n",
    "from sklearn.model_selection import GridSearchCV\n",
    "from sklearn.metrics import mean_absolute_error as MAE\n",
    "\n",
    "import time"
   ]
  },
  {
   "cell_type": "code",
   "execution_count": 73,
   "metadata": {},
   "outputs": [],
   "source": [
    "train_validation = {}\n",
    "except_val = []\n",
    "\n",
    "tmp_finaltrain = np.array(finaltrain[finaltrain.columns.difference(except_val)])\n",
    "np.random.seed(777)\n",
    "np.random.shuffle(np.array(tmp_finaltrain))\n",
    "thres = int(tmp_finaltrain.shape[0] / 5)\n",
    "\n",
    "x_train = pd.DataFrame(tmp_finaltrain[:-thres], columns=finaltrain.columns.difference(except_val))\n",
    "x_validation = pd.DataFrame(tmp_finaltrain[-thres:], columns=finaltrain.columns.difference(except_val))\n",
    "\n",
    "X = x_train[x_train.columns.difference(['등록차량수', '단지코드'])].astype(float)\n",
    "y = x_train[['등록차량수']].astype(float)\n",
    "\n",
    "def myLR():\n",
    "    model = LinearRegression()\n",
    "    fit = model.fit(X, y)\n",
    "    print(f'Linear Regression Score: {MAE(y, fit.predict(X))}')"
   ]
  },
  {
   "cell_type": "code",
   "execution_count": 74,
   "metadata": {},
   "outputs": [],
   "source": [
    "def myRegressor(regressor, param_grid):\n",
    "    start = time.time()\n",
    "    reg_grid = GridSearchCV(estimator=regressor,\n",
    "                            param_grid=param_grid,\n",
    "                            scoring='neg_mean_absolute_error',\n",
    "                            n_jobs=60,\n",
    "                            cv=5,\n",
    "                            refit=True,\n",
    "                            return_train_score=True)\n",
    "    reg_grid.fit(X, y)\n",
    "    result = pd.DataFrame(reg_grid.cv_results_)[\n",
    "        ['params', 'mean_test_score', 'rank_test_score']\n",
    "    ].sort_values(by='rank_test_score')\n",
    "    print(f'소요시간: {round((time.time() - start) / 60, 2)}분')\n",
    "    \n",
    "    return result"
   ]
  },
  {
   "cell_type": "code",
   "execution_count": 75,
   "metadata": {},
   "outputs": [],
   "source": [
    "def finalxgb(n_jobs, params):\n",
    "    start = time.time()\n",
    "    x_train, y_train = X.copy(), y.copy()\n",
    "    xgb_clf = xgb.XGBRegressor()\n",
    "    xgb_param_grid  = {\n",
    "        'learning_rate': params['learning_rate'],\n",
    "        'n_estimators': params['n_estimators'],\n",
    "        'max_depth': [5],\n",
    "        'min_child_weight': [1],\n",
    "        'gamma': [0],\n",
    "        'subsample': [0.8],\n",
    "        'colsample_bytree': [0.8],\n",
    "        'nthread': [-1],\n",
    "        'scale_pos_weight': [1],\n",
    "        'tree_method': ['gpu_hist'],\n",
    "        'gpu_id': params['gpu_id'],\n",
    "        'seed': [123]\n",
    "    }\n",
    "\n",
    "    def GridXGB(xgb_clf, xgb_param_grid):\n",
    "        hr_grid = GridSearchCV(estimator=xgb_clf,\n",
    "                           param_grid=xgb_param_grid,\n",
    "                           scoring='neg_mean_absolute_error',\n",
    "                           n_jobs=n_jobs,\n",
    "                           cv=5,\n",
    "                           refit=True,\n",
    "                           return_train_score=True)\n",
    "        hr_grid.fit(x_train, y_train)\n",
    "        return hr_grid\n",
    "\n",
    "    hr_grid = GridXGB(xgb_clf, xgb_param_grid)\n",
    "    hr_grid_df = pd.DataFrame(hr_grid.cv_results_).sort_values(by='rank_test_score')\n",
    "    print(f'Best MAE: {hr_grid_df.iloc[0][\"mean_test_score\"]}')\n",
    "\n",
    "    s1 = xgb_clf\n",
    "    s1.set_params(**hr_grid.best_params_)\n",
    "    print(f'Learning Rate, n_estimators FINISHED !! Time Spent: {round((time.time() - start) / 60, 2)} mins')\n",
    "    print(hr_grid.best_params_)\n",
    "\n",
    "    xgb_param_grid  = {\n",
    "        'max_depth': params['max_depth'],\n",
    "        'min_child_weight': [1, 2, 3, 4, 5]\n",
    "    }\n",
    "\n",
    "    hr_grid = GridXGB(s1, xgb_param_grid)\n",
    "    hr_grid_df = pd.DataFrame(hr_grid.cv_results_).sort_values(by='rank_test_score')\n",
    "    print(f'Best MAE: {hr_grid_df.iloc[0][\"mean_test_score\"]}')\n",
    "\n",
    "    s1 = xgb_clf\n",
    "    s1.set_params(**hr_grid.best_params_)\n",
    "    print(f'max_depth, min_child_weight FINISHED !! Time Spent: {round((time.time() - start) / 60, 2)} mins')\n",
    "    print(hr_grid.best_params_)\n",
    "\n",
    "    xgb_param_grid  = {\n",
    "        'gamma': params['gamma']\n",
    "    }\n",
    "\n",
    "    hr_grid = GridXGB(s1, xgb_param_grid)\n",
    "    hr_grid_df = pd.DataFrame(hr_grid.cv_results_).sort_values(by='rank_test_score')\n",
    "    print(f'Best MAE: {hr_grid_df.iloc[0][\"mean_test_score\"]}')\n",
    "\n",
    "    s1 = xgb_clf\n",
    "    s1.set_params(**hr_grid.best_params_)\n",
    "    print(f'gamma FINISHED !! Time Spent: {round((time.time() - start) / 60, 2)} mins')\n",
    "    print(hr_grid.best_params_)\n",
    "\n",
    "\n",
    "    xgb_param_grid  = {\n",
    "        'subsample': params['subsample'],\n",
    "        'colsample_bytree': params['colsample_bytree']\n",
    "    }\n",
    "\n",
    "    hr_grid = GridXGB(s1, xgb_param_grid)\n",
    "    hr_grid_df = pd.DataFrame(hr_grid.cv_results_).sort_values(by='rank_test_score')\n",
    "    print(f'Best MAE: {hr_grid_df.iloc[0][\"mean_test_score\"]}')\n",
    "\n",
    "    s1 = xgb_clf\n",
    "    s1.set_params(**hr_grid.best_params_)\n",
    "    print(f'subsample, colsample_bytree FINISHED !! Time Spent: {round((time.time() - start) / 60, 2)} mins')\n",
    "    print(hr_grid.best_params_)\n",
    "\n",
    "\n",
    "    xgb_param_grid  = {\n",
    "        'subsample': [i/100.0 for i in range(40,80)],\n",
    "    }\n",
    "\n",
    "    hr_grid = GridXGB(s1, xgb_param_grid)\n",
    "    hr_grid_df = pd.DataFrame(hr_grid.cv_results_).sort_values(by='rank_test_score')\n",
    "    print(f'Best MAE: {hr_grid_df.iloc[0][\"mean_test_score\"]}')\n",
    "\n",
    "    s1 = xgb_clf\n",
    "    s1.set_params(**hr_grid.best_params_)\n",
    "    print(f'subsample FINISHED !! Time Spent: {round((time.time() - start) / 60, 2)} mins')\n",
    "    print(hr_grid.best_params_)\n",
    "\n",
    "    xgb_param_grid = {\n",
    "     'reg_alpha': [1e-5, 1e-2, 0.1, 1, 100]\n",
    "    }\n",
    "\n",
    "    hr_grid = GridXGB(s1, xgb_param_grid)\n",
    "    hr_grid_df = pd.DataFrame(hr_grid.cv_results_).sort_values(by='rank_test_score')\n",
    "    print(f'Best MAE: {hr_grid_df.iloc[0][\"mean_test_score\"]}')\n",
    "\n",
    "    s1 = xgb_clf\n",
    "    s1.set_params(**hr_grid.best_params_)\n",
    "    print(f'Regularization FINISHED !! Time Spent: {round((time.time() - start) / 60, 2)} mins')\n",
    "    print(hr_grid.best_params_)\n",
    "\n",
    "    return hr_grid\n",
    "\n"
   ]
  },
  {
   "cell_type": "code",
   "execution_count": 76,
   "metadata": {},
   "outputs": [],
   "source": [
    "rf_params = {\n",
    "    'n_estimators': [10, 20, 30, 40, 50],\n",
    "    'criterion': ['mae'],\n",
    "    'max_depth': [20, 30, 40]\n",
    "}\n",
    "\n",
    "svr_params = {\n",
    "    'kernel': ['rbf'],\n",
    "    'C': [0.1, 1, 2, 3],\n",
    "    'epsilon': [0.01, 0.1, 0.5],\n",
    "}\n",
    "\n",
    "xgb_params = {\n",
    "    'max_depth': list(range(3, 11)),\n",
    "    'subsample': [0.5, 0.6, 0.7, 0.8, 0.9, 1],\n",
    "    'colsample_bytree': [0.5, 0.6, 0.7, 0.8, 0.9, 1],\n",
    "    'gamma': [0, 3, 6, 9],\n",
    "    'tree_method':['gpu_hist'],\n",
    "    'gpu_id': [0],\n",
    "    'learning_rate': [0.2, 0.05, 0.005],\n",
    "    'n_estimators': [100, 200, 500]\n",
    "}"
   ]
  },
  {
   "cell_type": "code",
   "execution_count": 77,
   "metadata": {},
   "outputs": [
    {
     "name": "stderr",
     "output_type": "stream",
     "text": [
      "/usr/local/lib/python3.6/dist-packages/sklearn/model_selection/_search.py:765: DataConversionWarning: A column-vector y was passed when a 1d array was expected. Please change the shape of y to (n_samples,), for example using ravel().\n",
      "  self.best_estimator_.fit(X, y, **fit_params)\n"
     ]
    },
    {
     "name": "stdout",
     "output_type": "stream",
     "text": [
      "소요시간: 0.07분\n",
      "소요시간: 0.0분\n"
     ]
    },
    {
     "name": "stderr",
     "output_type": "stream",
     "text": [
      "/usr/local/lib/python3.6/dist-packages/sklearn/utils/validation.py:72: DataConversionWarning: A column-vector y was passed when a 1d array was expected. Please change the shape of y to (n_samples, ), for example using ravel().\n",
      "  return f(**kwargs)\n"
     ]
    }
   ],
   "source": [
    "result_rf = myRegressor(RandomForestRegressor(), rf_params)\n",
    "result_svr = myRegressor(SVR(), svr_params)"
   ]
  },
  {
   "cell_type": "code",
   "execution_count": 78,
   "metadata": {},
   "outputs": [
    {
     "name": "stdout",
     "output_type": "stream",
     "text": [
      "Best MAE: -0.3617492596471233\n",
      "Learning Rate, n_estimators FINISHED !! Time Spent: 0.61 mins\n",
      "{'colsample_bytree': 0.8, 'gamma': 0, 'gpu_id': 0, 'learning_rate': 0.05, 'max_depth': 5, 'min_child_weight': 1, 'n_estimators': 100, 'nthread': -1, 'scale_pos_weight': 1, 'seed': 123, 'subsample': 0.8, 'tree_method': 'gpu_hist'}\n",
      "Best MAE: -0.3570136128079409\n",
      "max_depth, min_child_weight FINISHED !! Time Spent: 1.95 mins\n",
      "{'max_depth': 3, 'min_child_weight': 2}\n",
      "Best MAE: -0.3570136128079409\n",
      "gamma FINISHED !! Time Spent: 2.02 mins\n",
      "{'gamma': 0}\n",
      "Best MAE: -0.3570136128079409\n",
      "subsample, colsample_bytree FINISHED !! Time Spent: 2.54 mins\n",
      "{'colsample_bytree': 0.8, 'subsample': 0.8}\n",
      "Best MAE: -0.3582308497860828\n",
      "subsample FINISHED !! Time Spent: 3.11 mins\n",
      "{'subsample': 0.47}\n",
      "Best MAE: -0.3593156917355399\n",
      "Regularization FINISHED !! Time Spent: 3.2 mins\n",
      "{'reg_alpha': 0.1}\n"
     ]
    }
   ],
   "source": [
    "result_xgb = finalxgb(30, xgb_params)"
   ]
  },
  {
   "cell_type": "code",
   "execution_count": 79,
   "metadata": {},
   "outputs": [
    {
     "name": "stderr",
     "output_type": "stream",
     "text": [
      "/usr/local/lib/python3.6/dist-packages/ipykernel_launcher.py:2: DataConversionWarning: A column-vector y was passed when a 1d array was expected. Please change the shape of y to (n_samples,), for example using ravel().\n",
      "  \n",
      "/usr/local/lib/python3.6/dist-packages/sklearn/utils/validation.py:72: DataConversionWarning: A column-vector y was passed when a 1d array was expected. Please change the shape of y to (n_samples, ), for example using ravel().\n",
      "  return f(**kwargs)\n"
     ]
    }
   ],
   "source": [
    "rf_model = RandomForestRegressor(**result_rf['params'].iloc[0])\n",
    "rf_model = rf_model.fit(X, y)\n",
    "\n",
    "svr_model = SVR(**result_svr['params'].iloc[0])\n",
    "svr_model = svr_model.fit(X, y)\n",
    "\n",
    "xgb_model = xgb.XGBRegressor(**result_xgb.best_params_)\n",
    "xgb_model = xgb_model.fit(X, y)"
   ]
  },
  {
   "cell_type": "code",
   "execution_count": 80,
   "metadata": {},
   "outputs": [
    {
     "name": "stdout",
     "output_type": "stream",
     "text": [
      "104.2018309859155\n",
      "101.87626831338129\n",
      "103.2836396123322\n"
     ]
    }
   ],
   "source": [
    "X_val = x_validation[x_validation.columns.difference(['등록차량수', '단지코드'])].astype(float)\n",
    "y_val = x_validation[['등록차량수']].astype(float)\n",
    "\n",
    "score = MAE(y_val * stds['등록차량수'] + means['등록차량수'], rf_model.predict(X_val) * stds['등록차량수'] + means['등록차량수'])\n",
    "print(score)\n",
    "score = MAE(y_val * stds['등록차량수'] + means['등록차량수'], svr_model.predict(X_val) * stds['등록차량수'] + means['등록차량수'])\n",
    "print(score)\n",
    "score = MAE(y_val * stds['등록차량수'] + means['등록차량수'], xgb_model.predict(X_val) * stds['등록차량수'] + means['등록차량수'])\n",
    "print(score)"
   ]
  },
  {
   "cell_type": "code",
   "execution_count": 89,
   "metadata": {},
   "outputs": [],
   "source": [
    "def submission_return(test_model):\n",
    "    finaltest['score'] = test_model.predict(finaltest[X.columns]) * stds['등록차량수'] + means['등록차량수']\n",
    "\n",
    "    final = pd.DataFrame(np.array(finaltest[['단지코드', 'score']]), columns=['code', 'num'])\n",
    "\n",
    "    final1 = pd.merge(sample_submission, final, how='outer', on='code')\n",
    "    final1 = pd.DataFrame(np.array(final1[['code', 'num_y']]), columns=['code', 'num'])\n",
    "\n",
    "    return final1"
   ]
  },
  {
   "cell_type": "code",
   "execution_count": 90,
   "metadata": {},
   "outputs": [],
   "source": [
    "svr_submission = submission_return(svr_model)"
   ]
  },
  {
   "cell_type": "code",
   "execution_count": 81,
   "metadata": {},
   "outputs": [],
   "source": [
    "final1.to_csv('submission1.csv', index=False)"
   ]
  },
  {
   "cell_type": "code",
   "execution_count": 93,
   "metadata": {},
   "outputs": [],
   "source": [
    "svr_submission.to_csv('submission_svr1.csv', index=False)"
   ]
  },
  {
   "cell_type": "code",
   "execution_count": null,
   "metadata": {},
   "outputs": [],
   "source": []
  },
  {
   "cell_type": "code",
   "execution_count": null,
   "metadata": {},
   "outputs": [],
   "source": []
  },
  {
   "cell_type": "code",
   "execution_count": null,
   "metadata": {},
   "outputs": [],
   "source": []
  },
  {
   "cell_type": "code",
   "execution_count": null,
   "metadata": {},
   "outputs": [],
   "source": []
  },
  {
   "cell_type": "code",
   "execution_count": null,
   "metadata": {},
   "outputs": [],
   "source": []
  },
  {
   "cell_type": "code",
   "execution_count": null,
   "metadata": {},
   "outputs": [],
   "source": []
  },
  {
   "cell_type": "code",
   "execution_count": null,
   "metadata": {},
   "outputs": [],
   "source": []
  },
  {
   "cell_type": "code",
   "execution_count": null,
   "metadata": {},
   "outputs": [],
   "source": []
  },
  {
   "cell_type": "code",
   "execution_count": null,
   "metadata": {},
   "outputs": [],
   "source": []
  },
  {
   "cell_type": "code",
   "execution_count": null,
   "metadata": {},
   "outputs": [],
   "source": []
  },
  {
   "cell_type": "code",
   "execution_count": null,
   "metadata": {},
   "outputs": [],
   "source": []
  },
  {
   "cell_type": "code",
   "execution_count": null,
   "metadata": {},
   "outputs": [],
   "source": []
  }
 ],
 "metadata": {
  "kernelspec": {
   "display_name": "Python 3",
   "language": "python",
   "name": "python3"
  },
  "language_info": {
   "codemirror_mode": {
    "name": "ipython",
    "version": 3
   },
   "file_extension": ".py",
   "mimetype": "text/x-python",
   "name": "python",
   "nbconvert_exporter": "python",
   "pygments_lexer": "ipython3",
   "version": "3.6.9"
  }
 },
 "nbformat": 4,
 "nbformat_minor": 4
}
